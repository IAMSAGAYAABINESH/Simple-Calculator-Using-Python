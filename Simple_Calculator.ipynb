{
  "nbformat": 4,
  "nbformat_minor": 0,
  "metadata": {
    "colab": {
      "provenance": [],
      "authorship_tag": "ABX9TyPDFMbDoLPdPe9cJ4RAnTQJ",
      "include_colab_link": true
    },
    "kernelspec": {
      "name": "python3",
      "display_name": "Python 3"
    },
    "language_info": {
      "name": "python"
    }
  },
  "cells": [
    {
      "cell_type": "markdown",
      "metadata": {
        "id": "view-in-github",
        "colab_type": "text"
      },
      "source": [
        "<a href=\"https://colab.research.google.com/github/IAMSAGAYAABINESH/Simple-Calculator-Using-Python/blob/main/Simple_Calculator.ipynb\" target=\"_parent\"><img src=\"https://colab.research.google.com/assets/colab-badge.svg\" alt=\"Open In Colab\"/></a>"
      ]
    },
    {
      "cell_type": "code",
      "execution_count": 1,
      "metadata": {
        "colab": {
          "base_uri": "https://localhost:8080/"
        },
        "id": "8Nxfhyn50XUg",
        "outputId": "9541899d-9e54-4361-ac62-5637b3eada43"
      },
      "outputs": [
        {
          "name": "stdout",
          "output_type": "stream",
          "text": [
            "Select operation.\n",
            "1-Add\n",
            "2-Subtract\n",
            "3-Multiply\n",
            "4-Divide\n",
            "Enter choice(1/2/3/4): 2\n",
            "Enter first number: 1\n",
            "Enter second number: .05\n",
            "1.0 - 0.05 = 0.95\n",
            "Let's do next calculation? (yes/no): no\n"
          ]
        }
      ],
      "source": [
        "# This function adds two numbers\n",
        "def add(num1,num2 ):\n",
        "    return num1+ num2\n",
        "# This function subtracts two numbers\n",
        "def subtract(num1,num2):\n",
        "    return num1- num2\n",
        "# This function multiplies two numbers\n",
        "def multiply(num1, num2):\n",
        "    return num1 * num2\n",
        "# This function divides two numbers\n",
        "def divide(num1, num2):\n",
        "    return num1 / num2\n",
        "print(\"Select operation.\")\n",
        "print(\"1-Add\")\n",
        "print(\"2-Subtract\")\n",
        "print(\"3-Multiply\")\n",
        "print(\"4-Divide\")\n",
        "while True:\n",
        "    # take input from the user\n",
        "    choice = input(\"Enter choice(1/2/3/4): \")\n",
        "    # check if choice is one of the four options\n",
        "    if choice in ('1', '2', '3', '4'):\n",
        "        try:\n",
        "            num1 = float(input(\"Enter first number: \"))\n",
        "            num2 = float(input(\"Enter second number: \"))\n",
        "        except ValueError:\n",
        "            print(\"Invalid input. Please enter a number.\")\n",
        "            continue\n",
        "        if choice == '1':\n",
        "            print(num1, \"+\", num2, \"=\", add(num1, num2))\n",
        "        elif choice == '2':\n",
        "            print(num1, \"-\", num2, \"=\", subtract(num1, num2))\n",
        "        elif choice == '3':\n",
        "            print(num1, \"*\", num2, \"=\", multiply(num1, num2))\n",
        "        elif choice == '4':\n",
        "            print(num1, \"/\", num2, \"=\", divide(num1, num2))\n",
        "        # check if user wants another calculation\n",
        "        # If Answer is no t will break out of the loop\n",
        "        next_calculation = input(\"Let's do next calculation? (yes/no): \")\n",
        "        if next_calculation == \"no\":\n",
        "          break\n",
        "    else:\n",
        "        print(\"Invalid Input\")"
      ]
    }
  ]
}